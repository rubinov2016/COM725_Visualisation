{
 "cells": [
  {
   "cell_type": "code",
   "execution_count": 1,
   "id": "initial_id",
   "metadata": {
    "collapsed": true,
    "ExecuteTime": {
     "end_time": "2024-02-28T20:00:19.403874100Z",
     "start_time": "2024-02-28T20:00:16.183566800Z"
    }
   },
   "outputs": [
    {
     "name": "stdout",
     "output_type": "stream",
     "text": [
      "       datestamp    co2\n",
      "0     29/03/1958  316.1\n",
      "1     05/04/1958  317.3\n",
      "2     12/04/1958  317.6\n",
      "3     19/04/1958  317.5\n",
      "4     26/04/1958  316.4\n",
      "...          ...    ...\n",
      "2279  01/12/2001  370.3\n",
      "2280  08/12/2001  370.8\n",
      "2281  15/12/2001  371.2\n",
      "2282  22/12/2001  371.3\n",
      "2283  29/12/2001  371.5\n",
      "\n",
      "[2284 rows x 2 columns]\n"
     ]
    }
   ],
   "source": [
    "import pandas as pd\n",
    "df = pd.read_csv(\"ch2_co2_levels.csv\")\n",
    "print(df)"
   ]
  },
  {
   "cell_type": "code",
   "outputs": [],
   "source": [],
   "metadata": {
    "collapsed": false
   },
   "id": "da25956ba9b50a74"
  }
 ],
 "metadata": {
  "kernelspec": {
   "display_name": "Python 3",
   "language": "python",
   "name": "python3"
  },
  "language_info": {
   "codemirror_mode": {
    "name": "ipython",
    "version": 2
   },
   "file_extension": ".py",
   "mimetype": "text/x-python",
   "name": "python",
   "nbconvert_exporter": "python",
   "pygments_lexer": "ipython2",
   "version": "2.7.6"
  }
 },
 "nbformat": 4,
 "nbformat_minor": 5
}
