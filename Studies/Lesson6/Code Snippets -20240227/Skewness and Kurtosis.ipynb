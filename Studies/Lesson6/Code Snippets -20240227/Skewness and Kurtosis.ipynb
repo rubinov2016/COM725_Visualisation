{
 "cells": [
  {
   "cell_type": "code",
   "execution_count": 9,
   "metadata": {
    "ExecuteTime": {
     "end_time": "2024-02-29T14:24:35.944246500Z",
     "start_time": "2024-02-29T14:24:35.916239Z"
    }
   },
   "outputs": [
    {
     "name": "stdout",
     "output_type": "stream",
     "text": [
      "0    40.000000\n",
      "1    40.000000\n",
      "2    40.000000\n",
      "3    42.857143\n",
      "dtype: float64\n",
      "0    40.0\n",
      "1    40.0\n",
      "2    40.0\n",
      "3    50.0\n",
      "dtype: float64\n",
      "DataFrame:\n",
      "    0   1   2   3   4   5   6\n",
      "0  10  20  30  40  50  60  70\n",
      "1  20  20  30  40  50  60  60\n",
      "2  10  10  40  40  50  60  70\n",
      "3  10  20  30  50  50  60  80\n",
      "Skew:\n",
      "0    0.000000\n",
      "1    0.000000\n",
      "2   -0.340998\n",
      "3    0.121467\n",
      "dtype: float64\n"
     ]
    }
   ],
   "source": [
    "import pandas as pd\n",
    "dataVal = [(10,20,30,40,50,60,70),\n",
    "           (20,20,30,40,50,60,60),\n",
    "           (10,10,40,40,50,60,70),\n",
    "           (10,20,30,50,50,60,80)]\n",
    "dataFrame = pd.DataFrame(data=dataVal)\n",
    "meanVal = dataFrame.mean(axis=1)\n",
    "medianVal = dataFrame.median(axis=1)\n",
    "print(meanVal)\n",
    "print(medianVal)\n",
    "skewValue = dataFrame.skew(axis=1)\n",
    "print(\"DataFrame:\")\n",
    "print(dataFrame)\n",
    "print(\"Skew:\")\n",
    "print(skewValue)"
   ]
  },
  {
   "cell_type": "code",
   "execution_count": 3,
   "metadata": {
    "ExecuteTime": {
     "end_time": "2024-02-29T13:36:46.834542800Z",
     "start_time": "2024-02-29T13:36:46.783858200Z"
    }
   },
   "outputs": [
    {
     "name": "stdout",
     "output_type": "stream",
     "text": [
      "DataFrame:\n",
      "    0   1   2   3   4   5   6\n",
      "0  10  20  30  40  50  60  70\n",
      "1  10  10  40  40  50  60  70\n",
      "2  10  20  30  50  50  60  80\n",
      "Kurtosis:\n",
      "0   -1.200000\n",
      "1   -1.134375\n",
      "2   -0.768106\n",
      "dtype: float64\n"
     ]
    }
   ],
   "source": [
    "KurtosisValue = dataFrame.kurtosis(axis=1)\n",
    "print(\"DataFrame:\")\n",
    "print(dataFrame)\n",
    "print(\"Kurtosis:\")\n",
    "print(KurtosisValue)"
   ]
  },
  {
   "cell_type": "code",
   "execution_count": 2,
   "metadata": {
    "ExecuteTime": {
     "end_time": "2024-02-29T13:35:32.959195700Z",
     "start_time": "2024-02-29T13:35:32.908526200Z"
    }
   },
   "outputs": [],
   "source": []
  }
 ],
 "metadata": {
  "kernelspec": {
   "display_name": "Python 3",
   "language": "python",
   "name": "python3"
  },
  "language_info": {
   "codemirror_mode": {
    "name": "ipython",
    "version": 3
   },
   "file_extension": ".py",
   "mimetype": "text/x-python",
   "name": "python",
   "nbconvert_exporter": "python",
   "pygments_lexer": "ipython3",
   "version": "3.7.3"
  }
 },
 "nbformat": 4,
 "nbformat_minor": 2
}
