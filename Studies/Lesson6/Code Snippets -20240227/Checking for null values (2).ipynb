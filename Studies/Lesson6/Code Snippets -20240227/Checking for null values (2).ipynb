{
 "cells": [
  {
   "cell_type": "code",
   "execution_count": 18,
   "metadata": {
    "ExecuteTime": {
     "end_time": "2024-02-29T13:32:34.778100200Z",
     "start_time": "2024-02-29T13:32:34.686080800Z"
    }
   },
   "outputs": [
    {
     "name": "stdout",
     "output_type": "stream",
     "text": [
      "       Name   Age   Place College\n",
      "a     Ankit  22.0      Up     Geu\n",
      "b    Ankita   NaN   Delhi     NaN\n",
      "c     Rahul  16.0   Tokyo    Abes\n",
      "d    Simran  41.0   Delhi    Gehu\n",
      "e   Shaurya   NaN   Delhi     Geu\n",
      "f  Shivangi  35.0  Mumbai     NaN\n",
      "g   Swapnil  35.0     NaN     Geu\n",
      "i       NaN  35.0      Uk     Geu\n",
      "j      Jeet  35.0     Guj    Gehu\n",
      "k       NaN   NaN     NaN     NaN\n",
      " \n",
      "show the boolean Dataframe : \n",
      "\n",
      "     Name    Age  Place  College\n",
      "a  False  False  False    False\n",
      "b  False   True  False     True\n",
      "c  False  False  False    False\n",
      "d  False  False  False    False\n",
      "e  False   True  False    False\n",
      "f  False  False  False     True\n",
      "g  False  False   True    False\n",
      "i   True  False  False    False\n",
      "j  False  False  False    False\n",
      "k   True   True   True     True\n",
      " Total NaN in row 1 : 0\n",
      " Total NaN in row 2 : 2\n",
      " Total NaN in row 3 : 0\n",
      " Total NaN in row 4 : 0\n",
      " Total NaN in row 5 : 1\n",
      " Total NaN in row 6 : 1\n",
      " Total NaN in row 7 : 1\n",
      " Total NaN in row 8 : 1\n",
      " Total NaN in row 9 : 0\n",
      " Total NaN in row 10 : 4\n",
      " Total NaN in row 1 : 0 or 0.0 %\n",
      " Total NaN in row 2 : 2 or 50.0 %\n",
      " Total NaN in row 3 : 0 or 0.0 %\n",
      " Total NaN in row 4 : 0 or 0.0 %\n",
      " Total NaN in row 5 : 1 or 25.0 %\n",
      " Total NaN in row 6 : 1 or 25.0 %\n",
      " Total NaN in row 7 : 1 or 25.0 %\n",
      " Total NaN in row 8 : 1 or 25.0 %\n",
      " Total NaN in row 9 : 0 or 0.0 %\n",
      " Total NaN in row 10 : 4 or 100.0 %\n"
     ]
    }
   ],
   "source": [
    "# import numpy library as np\n",
    "import numpy as np\n",
    "\n",
    "# import pandas library as pd\n",
    "import pandas as pd\n",
    "\n",
    "\n",
    "# List of Tuples\n",
    "students = [('Ankit', 22, 'Up', 'Geu'),\n",
    "\t\t('Ankita', np.NaN, 'Delhi', np.NaN),\n",
    "\t\t('Rahul', 16, 'Tokyo', 'Abes'),\n",
    "\t\t('Simran', 41, 'Delhi', 'Gehu'),\n",
    "\t\t('Shaurya', np.NaN, 'Delhi', 'Geu'),\n",
    "\t\t('Shivangi', 35, 'Mumbai', np.NaN ),\n",
    "\t\t('Swapnil', 35, np.NaN, 'Geu'),\n",
    "\t\t(np.NaN, 35, 'Uk', 'Geu'),\n",
    "\t\t('Jeet', 35, 'Guj', 'Gehu'),\n",
    "\t\t(np.NaN, np.NaN, np.NaN, np.NaN)\n",
    "\t\t\t]\n",
    "\n",
    "# Create a DataFrame object from\n",
    "# list of tuples with columns\n",
    "# and indices.\n",
    "details = pd.DataFrame(students, columns =['Name', 'Age',\n",
    "\t\t\t\t\t\t\t\t\t\t'Place', 'College'],\n",
    "\t\t\t\t\t\tindex =['a', 'b', 'c', 'd', 'e',\n",
    "\t\t\t\t\t\t\t\t'f', 'g', 'i', 'j', 'k'])\n",
    "\n",
    "print(details)\n",
    "# show the boolean dataframe\t\t\t\n",
    "print(\" \\nshow the boolean Dataframe : \\n\\n\", details.isnull())\n",
    "\n",
    "# index attribute of a dataframe\n",
    "# gives index list\n",
    "\n",
    "# Count total NaN at each row in a DataFrame\n",
    "for i in range(len(details.index)) :\n",
    "\tprint(\" Total NaN in row\", i + 1, \":\", details.iloc[i].isnull().sum())\n",
    "\n",
    "# Count total NaN in numbers and as a percentage in at each row in a DataFrame\n",
    "for i in range(len(details.index)) :\n",
    "    #percentage = 100*(details.iloc[i].isnull().sum())/4\n",
    "    #if percentage>=75.0:\n",
    "        #print (percentage)\n",
    "        print(\" Total NaN in row\", i + 1, \":\", details.iloc[i].isnull().sum(), \"or\", 100*(details.iloc[i].isnull().sum())/4,\"%\")"
   ]
  },
  {
   "cell_type": "code",
   "execution_count": 19,
   "metadata": {
    "ExecuteTime": {
     "end_time": "2024-02-29T13:32:34.862100300Z",
     "start_time": "2024-02-29T13:32:34.744190200Z"
    }
   },
   "outputs": [
    {
     "name": "stdout",
     "output_type": "stream",
     "text": [
      " \n",
      "Count total NaN in a DataFrame : \n",
      "\n",
      " 10\n"
     ]
    }
   ],
   "source": [
    "# Count total NaN in a DataFrame\n",
    "print(\" \\nCount total NaN in a DataFrame : \\n\\n\",\n",
    "       details.isnull().sum().sum())"
   ]
  },
  {
   "cell_type": "code",
   "execution_count": 20,
   "metadata": {
    "ExecuteTime": {
     "end_time": "2024-02-29T13:32:34.892315200Z",
     "start_time": "2024-02-29T13:32:34.784083200Z"
    }
   },
   "outputs": [
    {
     "data": {
      "text/plain": "       Name   Age   Place College\na     Ankit  22.0      Up     Geu\nb    Ankita   NaN   Delhi     NaN\nc     Rahul  16.0   Tokyo    Abes\nd    Simran  41.0   Delhi    Gehu\ne   Shaurya   NaN   Delhi     Geu\nf  Shivangi  35.0  Mumbai     NaN\ng   Swapnil  35.0     NaN     Geu\ni       NaN  35.0      Uk     Geu\nj      Jeet  35.0     Guj    Gehu\nk       NaN   NaN     NaN     NaN",
      "text/html": "<div>\n<style scoped>\n    .dataframe tbody tr th:only-of-type {\n        vertical-align: middle;\n    }\n\n    .dataframe tbody tr th {\n        vertical-align: top;\n    }\n\n    .dataframe thead th {\n        text-align: right;\n    }\n</style>\n<table border=\"1\" class=\"dataframe\">\n  <thead>\n    <tr style=\"text-align: right;\">\n      <th></th>\n      <th>Name</th>\n      <th>Age</th>\n      <th>Place</th>\n      <th>College</th>\n    </tr>\n  </thead>\n  <tbody>\n    <tr>\n      <th>a</th>\n      <td>Ankit</td>\n      <td>22.0</td>\n      <td>Up</td>\n      <td>Geu</td>\n    </tr>\n    <tr>\n      <th>b</th>\n      <td>Ankita</td>\n      <td>NaN</td>\n      <td>Delhi</td>\n      <td>NaN</td>\n    </tr>\n    <tr>\n      <th>c</th>\n      <td>Rahul</td>\n      <td>16.0</td>\n      <td>Tokyo</td>\n      <td>Abes</td>\n    </tr>\n    <tr>\n      <th>d</th>\n      <td>Simran</td>\n      <td>41.0</td>\n      <td>Delhi</td>\n      <td>Gehu</td>\n    </tr>\n    <tr>\n      <th>e</th>\n      <td>Shaurya</td>\n      <td>NaN</td>\n      <td>Delhi</td>\n      <td>Geu</td>\n    </tr>\n    <tr>\n      <th>f</th>\n      <td>Shivangi</td>\n      <td>35.0</td>\n      <td>Mumbai</td>\n      <td>NaN</td>\n    </tr>\n    <tr>\n      <th>g</th>\n      <td>Swapnil</td>\n      <td>35.0</td>\n      <td>NaN</td>\n      <td>Geu</td>\n    </tr>\n    <tr>\n      <th>i</th>\n      <td>NaN</td>\n      <td>35.0</td>\n      <td>Uk</td>\n      <td>Geu</td>\n    </tr>\n    <tr>\n      <th>j</th>\n      <td>Jeet</td>\n      <td>35.0</td>\n      <td>Guj</td>\n      <td>Gehu</td>\n    </tr>\n    <tr>\n      <th>k</th>\n      <td>NaN</td>\n      <td>NaN</td>\n      <td>NaN</td>\n      <td>NaN</td>\n    </tr>\n  </tbody>\n</table>\n</div>"
     },
     "execution_count": 20,
     "metadata": {},
     "output_type": "execute_result"
    }
   ],
   "source": [
    "details"
   ]
  },
  {
   "cell_type": "code",
   "execution_count": 21,
   "metadata": {
    "ExecuteTime": {
     "end_time": "2024-02-29T13:32:34.965147700Z",
     "start_time": "2024-02-29T13:32:34.878059800Z"
    }
   },
   "outputs": [],
   "source": [
    "#making new dataframe with dropped NA values\n",
    "details2=details.dropna(axis=0, how='any')"
   ]
  },
  {
   "cell_type": "code",
   "execution_count": 22,
   "metadata": {
    "ExecuteTime": {
     "end_time": "2024-02-29T13:32:35.009563900Z",
     "start_time": "2024-02-29T13:32:34.908274100Z"
    }
   },
   "outputs": [
    {
     "data": {
      "text/plain": "     Name   Age  Place College\na   Ankit  22.0     Up     Geu\nc   Rahul  16.0  Tokyo    Abes\nd  Simran  41.0  Delhi    Gehu\nj    Jeet  35.0    Guj    Gehu",
      "text/html": "<div>\n<style scoped>\n    .dataframe tbody tr th:only-of-type {\n        vertical-align: middle;\n    }\n\n    .dataframe tbody tr th {\n        vertical-align: top;\n    }\n\n    .dataframe thead th {\n        text-align: right;\n    }\n</style>\n<table border=\"1\" class=\"dataframe\">\n  <thead>\n    <tr style=\"text-align: right;\">\n      <th></th>\n      <th>Name</th>\n      <th>Age</th>\n      <th>Place</th>\n      <th>College</th>\n    </tr>\n  </thead>\n  <tbody>\n    <tr>\n      <th>a</th>\n      <td>Ankit</td>\n      <td>22.0</td>\n      <td>Up</td>\n      <td>Geu</td>\n    </tr>\n    <tr>\n      <th>c</th>\n      <td>Rahul</td>\n      <td>16.0</td>\n      <td>Tokyo</td>\n      <td>Abes</td>\n    </tr>\n    <tr>\n      <th>d</th>\n      <td>Simran</td>\n      <td>41.0</td>\n      <td>Delhi</td>\n      <td>Gehu</td>\n    </tr>\n    <tr>\n      <th>j</th>\n      <td>Jeet</td>\n      <td>35.0</td>\n      <td>Guj</td>\n      <td>Gehu</td>\n    </tr>\n  </tbody>\n</table>\n</div>"
     },
     "execution_count": 22,
     "metadata": {},
     "output_type": "execute_result"
    }
   ],
   "source": [
    "details2"
   ]
  },
  {
   "cell_type": "code",
   "execution_count": 23,
   "metadata": {
    "ExecuteTime": {
     "end_time": "2024-02-29T13:32:35.139065900Z",
     "start_time": "2024-02-29T13:32:34.977116900Z"
    }
   },
   "outputs": [
    {
     "data": {
      "text/plain": "Index(['a', 'c', 'd', 'j'], dtype='object')"
     },
     "execution_count": 23,
     "metadata": {},
     "output_type": "execute_result"
    }
   ],
   "source": [
    "details2.index"
   ]
  },
  {
   "cell_type": "code",
   "execution_count": 26,
   "metadata": {
    "ExecuteTime": {
     "end_time": "2024-02-29T13:34:47.313087700Z",
     "start_time": "2024-02-29T13:34:47.255636400Z"
    }
   },
   "outputs": [
    {
     "name": "stdout",
     "output_type": "stream",
     "text": [
      "       0\n",
      "a  False\n",
      "b   True\n",
      "c  False\n",
      "d  False\n",
      "e   True\n",
      "f   True\n",
      "g   True\n",
      "i   True\n",
      "j  False\n",
      "k   True\n"
     ]
    }
   ],
   "source": [
    "df= pd.DataFrame(details.isnull().any(axis=1))\n",
    "print(df)"
   ]
  },
  {
   "cell_type": "code",
   "execution_count": 25,
   "metadata": {
    "ExecuteTime": {
     "end_time": "2024-02-29T13:32:35.422607400Z",
     "start_time": "2024-02-29T13:32:35.246780300Z"
    }
   },
   "outputs": [
    {
     "data": {
      "text/plain": "Index(['a', 'b', 'c', 'd', 'e', 'f', 'g', 'i', 'j', 'k'], dtype='object')"
     },
     "execution_count": 25,
     "metadata": {},
     "output_type": "execute_result"
    }
   ],
   "source": [
    "df.index"
   ]
  },
  {
   "cell_type": "code",
   "execution_count": 25,
   "metadata": {
    "ExecuteTime": {
     "end_time": "2024-02-29T13:32:35.452527200Z",
     "start_time": "2024-02-29T13:32:35.367756900Z"
    }
   },
   "outputs": [],
   "source": []
  }
 ],
 "metadata": {
  "kernelspec": {
   "display_name": "Python 3",
   "language": "python",
   "name": "python3"
  },
  "language_info": {
   "codemirror_mode": {
    "name": "ipython",
    "version": 3
   },
   "file_extension": ".py",
   "mimetype": "text/x-python",
   "name": "python",
   "nbconvert_exporter": "python",
   "pygments_lexer": "ipython3",
   "version": "3.7.3"
  }
 },
 "nbformat": 4,
 "nbformat_minor": 2
}
